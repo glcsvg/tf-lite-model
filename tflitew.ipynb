{
 "cells": [
  {
   "cell_type": "code",
   "execution_count": 1,
   "id": "isolated-ottawa",
   "metadata": {},
   "outputs": [],
   "source": [
    "a = [10.0,2.9]"
   ]
  },
  {
   "cell_type": "code",
   "execution_count": 4,
   "id": "funky-exposure",
   "metadata": {},
   "outputs": [],
   "source": [
    "b = 10.0"
   ]
  },
  {
   "cell_type": "code",
   "execution_count": 7,
   "id": "collectible-worship",
   "metadata": {},
   "outputs": [],
   "source": [
    "b = [b]"
   ]
  },
  {
   "cell_type": "code",
   "execution_count": 8,
   "id": "norwegian-trust",
   "metadata": {},
   "outputs": [
    {
     "data": {
      "text/plain": [
       "[10.0]"
      ]
     },
     "execution_count": 8,
     "metadata": {},
     "output_type": "execute_result"
    }
   ],
   "source": [
    "list(b)"
   ]
  },
  {
   "cell_type": "code",
   "execution_count": 2,
   "id": "green-specific",
   "metadata": {},
   "outputs": [
    {
     "name": "stdout",
     "output_type": "stream",
     "text": [
      "0\n",
      "1\n"
     ]
    }
   ],
   "source": [
    "for i in range(int(len(a))):\n",
    "    print(i)"
   ]
  },
  {
   "cell_type": "code",
   "execution_count": null,
   "id": "generous-preview",
   "metadata": {},
   "outputs": [],
   "source": [
    "import tensorflow as tf\n",
    "converter = tf.lite.TFLiteConverter.from_saved_model('head_detection/tflite_graph/saved_model/')\n",
    "converter.optimizations = [tf.lite.Optimize.DEFAULT]\n",
    "converter.target_spec.supported_types = [tf.float16]\n",
    "tflite_quant_model = converter.convert()\n",
    "open('head_detection/tf_files/head16.tflite', 'wb').write(tflite_quant_model)"
   ]
  },
  {
   "cell_type": "code",
   "execution_count": null,
   "id": "necessary-blame",
   "metadata": {},
   "outputs": [],
   "source": [
    "import tensorflow as tf \n",
    "from_frozen_graph ='head_detection/tflite_graph/saved_model/saved_model.pb'\n",
    "input_arrays = [“normalized_input_image_tensor”] \n",
    "output_arrays = [‘TFLite_Detection_PostProcess’, \n",
    "                 ‘TFLite_Detection_PostProcess:1’,\n",
    "                 ‘TFLite_Detection_PostProcess:2’, \n",
    "                 ‘TFLite_Detection_PostProcess:3’] \n",
    "input_shapes = {“normalized_input_image_tensor” : [1, 300, 300, 3]} \n",
    "converter = tf.lite.TFLiteConverter.from_frozen_graph(from_frozen_graph,\n",
    "                                                      input_arrays=input_arrays,\n",
    "                                                      output_arrays=output_arrays,\n",
    "                                                      input_shapes=input_shapes) \n",
    "converter.allow_custom_ops = True [15] converter.optimizations = [tf.lite.Optimize.DEFAULT] \n",
    "tflite_quant_model = converter.convert() \n",
    "with open('head_detection/tf_files/head7.tflite', “wb”) as tflite_file:\n",
    "    tflite_file.write(tflite_model_quant)\n",
    "\n"
   ]
  }
 ],
 "metadata": {
  "kernelspec": {
   "display_name": "Python 3",
   "language": "python",
   "name": "python3"
  },
  "language_info": {
   "codemirror_mode": {
    "name": "ipython",
    "version": 3
   },
   "file_extension": ".py",
   "mimetype": "text/x-python",
   "name": "python",
   "nbconvert_exporter": "python",
   "pygments_lexer": "ipython3",
   "version": "3.6.9"
  }
 },
 "nbformat": 4,
 "nbformat_minor": 5
}
